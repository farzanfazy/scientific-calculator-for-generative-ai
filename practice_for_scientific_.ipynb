{
  "nbformat": 4,
  "nbformat_minor": 0,
  "metadata": {
    "colab": {
      "provenance": [],
      "authorship_tag": "ABX9TyOoddtL5TOReYxHVenOKh4d",
      "include_colab_link": true
    },
    "kernelspec": {
      "name": "python3",
      "display_name": "Python 3"
    },
    "language_info": {
      "name": "python"
    }
  },
  "cells": [
    {
      "cell_type": "markdown",
      "metadata": {
        "id": "view-in-github",
        "colab_type": "text"
      },
      "source": [
        "<a href=\"https://colab.research.google.com/github/farzanfazy/scientific-calculator-for-generative-ai/blob/main/practice_for_scientific_.ipynb\" target=\"_parent\"><img src=\"https://colab.research.google.com/assets/colab-badge.svg\" alt=\"Open In Colab\"/></a>"
      ]
    },
    {
      "cell_type": "code",
      "execution_count": null,
      "metadata": {
        "colab": {
          "base_uri": "https://localhost:8080/"
        },
        "id": "W5zM90vEp2BV",
        "outputId": "169771bb-cf45-4e61-a6a0-a5e981c1293d"
      },
      "outputs": [
        {
          "output_type": "stream",
          "name": "stdout",
          "text": [
            "Select operation:\n",
            "1. Add\n",
            "2. Subtract\n",
            "3. Multiply\n",
            "4. Divide\n",
            "5. Power\n",
            "6. Square Root\n",
            "7. Logarithm\n",
            "8. Sine\n",
            "9. Cosine\n",
            "10. Tangent\n",
            "11. Factorial\n"
          ]
        }
      ],
      "source": [
        "import math\n",
        "\n",
        "def add(x, y):\n",
        "    return x + y\n",
        "\n",
        "def subtract(x, y):\n",
        "    return x - y\n",
        "\n",
        "def multiply(x, y):\n",
        "    return x * y\n",
        "\n",
        "def divide(x, y):\n",
        "    if y == 0:\n",
        "        return \"Cannot divide by zero\"\n",
        "    return x / y\n",
        "\n",
        "def power(x, y):\n",
        "    return x ** y\n",
        "\n",
        "def sqrt(x):\n",
        "    return math.sqrt(x)\n",
        "\n",
        "def log(x, base=10):\n",
        "    return math.log(x, base)\n",
        "\n",
        "def sin(x):\n",
        "    return math.sin(math.radians(x))\n",
        "\n",
        "def cos(x):\n",
        "    return math.cos(math.radians(x))\n",
        "\n",
        "def tan(x):\n",
        "    return math.tan(math.radians(x))\n",
        "\n",
        "def factorial(x):\n",
        "    if x < 0:\n",
        "        return \"Factorial not defined for negative numbers\"\n",
        "    return math.factorial(x)\n",
        "\n",
        "def scientific_calculator():\n",
        "    print(\"Select operation:\")\n",
        "    print(\"1. Add\")\n",
        "    print(\"2. Subtract\")\n",
        "    print(\"3. Multiply\")\n",
        "    print(\"4. Divide\")\n",
        "    print(\"5. Power\")\n",
        "    print(\"6. Square Root\")\n",
        "    print(\"7. Logarithm\")\n",
        "    print(\"8. Sine\")\n",
        "    print(\"9. Cosine\")\n",
        "    print(\"10. Tangent\")\n",
        "    print(\"11. Factorial\")\n",
        "\n",
        "    choice = input(\"Enter choice (1-11): \")\n",
        "\n",
        "    if choice in ['1', '2', '3', '4', '5']:\n",
        "        num1 = float(input(\"Enter first number: \"))\n",
        "        num2 = float(input(\"Enter second number: \"))\n",
        "\n",
        "        if choice == '1':\n",
        "            print(f\"Result: {add(num1, num2)}\")\n",
        "        elif choice == '2':\n",
        "            print(f\"Result: {subtract(num1, num2)}\")\n",
        "        elif choice == '3':\n",
        "            print(f\"Result: {multiply(num1, num2)}\")\n",
        "        elif choice == '4':\n",
        "            print(f\"Result: {divide(num1, num2)}\")\n",
        "        elif choice == '5':\n",
        "            print(f\"Result: {power(num1, num2)}\")\n",
        "    elif choice == '6':\n",
        "        num = float(input(\"Enter number: \"))\n",
        "        print(f\"Result: {sqrt(num)}\")\n",
        "    elif choice == '7':\n",
        "        num = float(input(\"Enter number: \"))\n",
        "        base = float(input(\"Enter base (default is 10): \") or 10)\n",
        "        print(f\"Result: {log(num, base)}\")\n",
        "    elif choice == '8':\n",
        "        angle = float(input(\"Enter angle in degrees: \"))\n",
        "        print(f\"Result: {sin(angle)}\")\n",
        "    elif choice == '9':\n",
        "        angle = float(input(\"Enter angle in degrees: \"))\n",
        "        print(f\"Result: {cos(angle)}\")\n",
        "    elif choice == '10':\n",
        "        angle = float(input(\"Enter angle in degrees: \"))\n",
        "        print(f\"Result: {tan(angle)}\")\n",
        "    elif choice == '11':\n",
        "        num = int(input(\"Enter number: \"))\n",
        "        print(f\"Result: {factorial(num)}\")\n",
        "    else:\n",
        "        print(\"Invalid input\")\n",
        "\n",
        "# Run the calculator\n",
        "scientific_calculator()\n"
      ]
    }
  ]
}